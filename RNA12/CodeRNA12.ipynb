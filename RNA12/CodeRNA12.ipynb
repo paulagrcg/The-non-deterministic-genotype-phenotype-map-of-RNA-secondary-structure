{
 "cells": [
  {
   "cell_type": "markdown",
   "metadata": {},
   "source": [
    "## create mfe GP map for RNA12\n"
   ]
  },
  {
   "cell_type": "code",
   "execution_count": 3,
   "metadata": {},
   "outputs": [],
   "source": [
    "#all of these will be useful for the following code\n",
    "import numpy as np\n",
    "import itertools as it\n",
    "from collections import defaultdict\n",
    "from collections import Counter\n",
    "import RNA #careful with cluster, should have installed ViennaRNA\n",
    "import pickle\n",
    "import math\n",
    "import os \n",
    "import sys\n",
    "\n",
    "L=12 #length of RNA is 12 "
   ]
  },
  {
   "cell_type": "code",
   "execution_count": 5,
   "metadata": {},
   "outputs": [],
   "source": [
    "#Generate all RNA sequences of L=12\n",
    "\n",
    "components = ['A','U','G','C']\n",
    "listRNA = [list(sequence) for sequence in it.product(components, repeat=L)]\n",
    "with open(\"seqRNA12fold.txt\", \"a\") as output:\n",
    "    for i in range(0,len(listRNA)):\n",
    "        for j in np.arange(0,len(listRNA[0])):\n",
    "            output.write(str(listRNA[i][j]))\n",
    "        output.write('\\n')"
   ]
  },
  {
   "cell_type": "code",
   "execution_count": 10,
   "metadata": {},
   "outputs": [],
   "source": [
    "def create_RNA_D_GPmap(filename,L):\n",
    "    count = 0\n",
    "    with open(filename) as fp:\n",
    "        d = defaultdict()\n",
    "        while True:\n",
    "            count += 1\n",
    "            line = fp.readline()\n",
    " \n",
    "            if not line:\n",
    "                break\n",
    "            if count%2 != 0:\n",
    "                seq = line.strip()\n",
    "            else:\n",
    "                fold = line.strip()\n",
    "                d[seq[0:L]] = fold[0:L]\n",
    "                        \n",
    "    return d"
   ]
  },
  {
   "cell_type": "code",
   "execution_count": null,
   "metadata": {},
   "outputs": [],
   "source": [
    "# Fold them in termial:\n",
    "# RNAfold < seqRNA12fold.txt > output.txt"
   ]
  },
  {
   "cell_type": "code",
   "execution_count": 7,
   "metadata": {},
   "outputs": [],
   "source": [
    "filename = \"output.txt\"\n",
    "#get MFE GP map\n",
    "ddictRNA12 = create_RNA_D_GPmap(filename,L)\n",
    "\n",
    "#get MFE neutralsets \n",
    "dneutralsetRNA12 = Counter(ddictRNA12.values())"
   ]
  },
  {
   "cell_type": "markdown",
   "metadata": {},
   "source": [
    "## create non-deterministic GP map for RNA12\n"
   ]
  },
  {
   "attachments": {},
   "cell_type": "markdown",
   "metadata": {},
   "source": [
    "We use energy gap of 15kbT"
   ]
  },
  {
   "cell_type": "code",
   "execution_count": 11,
   "metadata": {},
   "outputs": [],
   "source": [
    "def normalize(probs):\n",
    "    prob_factor = 1 / sum(probs)\n",
    "    return [prob_factor * p for p in probs]"
   ]
  },
  {
   "cell_type": "code",
   "execution_count": 1,
   "metadata": {},
   "outputs": [
    {
     "name": "stdout",
     "output_type": "stream",
     "text": [
      "0.6163207755 9.2448116325\n"
     ]
    }
   ],
   "source": [
    "kbT_RNA = RNA.exp_param().kT/1000.0\n",
    "cutoff = 15*kbT_RNA\n",
    "print(kbT_RNA,cutoff)"
   ]
  },
  {
   "attachments": {},
   "cell_type": "markdown",
   "metadata": {},
   "source": [
    "1.  First in terminal (we do mfe + [15*kbT_RNA=9.2448116325] cutoff): \n",
    "\n",
    "    RNAsubopt -e 9.2448116325 < seqRNA12fold.txt > subopt12tot.txt\n",
    "\n",
    "    RNAsubopt -p < seqRNA12fold.txt > foldF_RNA12.txt\n",
    "    \n",
    "    RNAfold < seqRNA12fold.txt > folds12.txt\n",
    "2. Run the code below\n",
    "3. Save dictRNA12"
   ]
  },
  {
   "cell_type": "code",
   "execution_count": null,
   "metadata": {},
   "outputs": [],
   "source": [
    "\n",
    "dictRNA12 = defaultdict(list)\n",
    "dictfolds12 = {}\n",
    "dictRNA12F = {}\n",
    "count = 0\n",
    "with open('folds12.txt','r') as handle:\n",
    "    for line in handle:\n",
    "        count+=1\n",
    "        if count%2!=0:\n",
    "            seq = line\n",
    "        elif line[0:L] == '.'*L:\n",
    "            dictfolds12[seq] = '.'*L+ ' '*2 + str(0.0)\n",
    "            continue\n",
    "        else: \n",
    "            dictfolds12[seq] = line\n",
    "with open ('foldF_RNA12.txt','r') as f:\n",
    "    for line in f:\n",
    "        if line in dictfolds12.keys():\n",
    "            seq = line[0:L]\n",
    "            continue\n",
    "        elif line[L+1]=='[':\n",
    "            dictRNA12F[seq] = line[L+3:-2]\n",
    "            continue\n",
    "probs = []\n",
    "folds = []\n",
    "count = 0\n",
    "\n",
    "with open('subopt12tot.txt','r') as ff:\n",
    "    for line in ff:\n",
    "\n",
    "        if line[0:L]+'\\n' in dictfolds12.keys():\n",
    "            count+=1\n",
    "            if  count!=1:\n",
    "                if '.'*L not in folds:\n",
    "                    probunfolded = math.exp(float(dictRNA12F[seq])/kbT_RNA)\n",
    "                    probs.append(probunfolded)\n",
    "                    folds.append('.'*L)\n",
    "\n",
    "                seqProbs = normalize(probs)\n",
    "                for f,p in zip(folds,seqProbs):\n",
    "                    dictRNA12[seq].append(f+ ' '*2 + str(p))\n",
    "\n",
    "            seq = line[0:L]\n",
    "            folds = []\n",
    "            probs = []\n",
    "            continue\n",
    "\n",
    "\n",
    "        else:\n",
    "        \n",
    "            folds.append(line[0:L])\n",
    "            prob = math.exp((float(dictRNA12F[seq])-float(line[L+2:-1]))/kbT_RNA)\n",
    "            probs.append(prob)\n",
    "            \n",
    "            continue\n",
    "       \n",
    "if '.'*L not in folds:\n",
    "    probunfolded = math.exp(float(dictRNA12F[seq])/kbT_RNA)\n",
    "    probs.append(probunfolded)\n",
    "    folds.append('.'*L)\n",
    "\n",
    "seqProbs = normalize(probs)\n",
    "for f,p in zip(folds,seqProbs):\n",
    "    dictRNA12[seq].append(f+ ' '*2 + str(p))"
   ]
  },
  {
   "attachments": {},
   "cell_type": "markdown",
   "metadata": {},
   "source": [
    "# Realisations of ND GP map\n",
    "Once dictionary of ND GP map (heavy file) is saved, we can create a sample (size 500) of realisations."
   ]
  },
  {
   "cell_type": "code",
   "execution_count": null,
   "metadata": {},
   "outputs": [],
   "source": [
    "#Use the code below to create each of the 500 realisations from total ND GP map\n",
    "\n",
    "def normalize(probs):\n",
    "    prob_factor = 1 / sum(probs)\n",
    "    return [prob_factor * p for p in probs]\n",
    "def extractnormalisedprobs(pboltzlist,L):\n",
    "    probsnorm = []\n",
    "    for p in pboltzlist:\n",
    "        probsnorm.append(float(p[L+2:]))\n",
    "    prob = normalize(probsnorm)\n",
    "    return {pboltzlist[pi][0:L]: prob[pi] for pi in range(0,len(pboltzlist))}\n",
    "\n",
    "\n",
    "def sampleGP(dictsuboptRNA12,L):\n",
    "    realisationgp = {}\n",
    "    for seq,subopt in dictsuboptRNA12.items():\n",
    "        foldList = []\n",
    "        probsList = []\n",
    "        phvsprobseq = extractnormalisedprobs(dictsuboptRNA12[seq],L)\n",
    "        for phenotype,probg in phvsprobseq.items():\n",
    "            foldList.append(phenotype)\n",
    "            probsList.append(probg)\n",
    "        realisationgp[seq] = random.choices(foldList, weights = probsList, k=1)[0]\n",
    "    return realisationgp"
   ]
  },
  {
   "attachments": {},
   "cell_type": "markdown",
   "metadata": {},
   "source": [
    "# Deterministic Quantities (neutral sets, robustness, evolvability)"
   ]
  },
  {
   "attachments": {},
   "cell_type": "markdown",
   "metadata": {},
   "source": [
    "We have a dictionary that we will call DGPmap representing the deterministic GP map of RNA12"
   ]
  },
  {
   "cell_type": "code",
   "execution_count": null,
   "metadata": {},
   "outputs": [],
   "source": [
    "#useful in functions of quantities\n",
    "def normalize(probs):\n",
    "    prob_factor = 1 / sum(probs)\n",
    "    return [prob_factor * p for p in probs]\n",
    "\n",
    "def mutationalneighbours(seq):\n",
    "    mutations = {'A': ['C','U','G'],'C': ['A','U','G'],'G': ['A','U','C'], 'U':['A','G','C']}\n",
    "    return [seq[:j] + m + seq[j+1:] for j in range(0,len(seq)) for m in mutations[str(seq[j])]]"
   ]
  },
  {
   "attachments": {},
   "cell_type": "markdown",
   "metadata": {},
   "source": [
    "## 1. Neutral sets"
   ]
  },
  {
   "cell_type": "code",
   "execution_count": null,
   "metadata": {},
   "outputs": [],
   "source": [
    "#dictionary of neutral set sizes. Each fold has a value representing the number of times it appears in GP map dict\n",
    "neutralsetsD = Counter(list(DGPmap.values()))"
   ]
  },
  {
   "attachments": {},
   "cell_type": "markdown",
   "metadata": {},
   "source": [
    "## 2. Robustness"
   ]
  },
  {
   "cell_type": "code",
   "execution_count": null,
   "metadata": {},
   "outputs": [],
   "source": [
    "#folds is an array of all the total folds of the GP map (same size as genotype space)\n",
    "def robustnessD(DGPmap,folds,K,L):   \n",
    "    s = list(DGPmap.keys())\n",
    "    a = Counter(folds)\n",
    "    rho_g = {}\n",
    "    for A in DGPmap.keys():\n",
    "        rho_g[A[0:L]] = 0\n",
    "    rho_p = {}\n",
    "    for A in a.keys():\n",
    "        rho_p[A[0:L]] = 0\n",
    "    #genotypic robustness\n",
    "    for seq in DGPmap.keys():\n",
    "        for mut in mutationalneighbours(seq):\n",
    "                if (DGPmap[mut]==DGPmap[seq]):rho_g[seq]+=1/((K-1)*L)\n",
    "                else: continue\n",
    "    #phenotypic robustness\n",
    "    for fold,count in a.items():\n",
    "        for j in range(0,len(folds)):\n",
    "            if fold[0:L]==folds[j][0:L]:\n",
    "                rho_p[fold[0:L]]+=rho_g[s[j]]\n",
    "        rho_p[fold[0:L]]/= count\n",
    "    \n",
    "    return rho_g,rho_p"
   ]
  },
  {
   "attachments": {},
   "cell_type": "markdown",
   "metadata": {},
   "source": [
    "## 3. Evolvability"
   ]
  },
  {
   "cell_type": "code",
   "execution_count": null,
   "metadata": {},
   "outputs": [],
   "source": [
    "#genotypic evolvability\n",
    "def evolvabilitygD(DGPmap):\n",
    "    evgdictd = defaultdict(float)\n",
    "    for seq,p in DGPmap.items():\n",
    "            prodfold = defaultdict(lambda:1)\n",
    "            for newmutation in mutationalneighbours(seq):            \n",
    "                    foldmut=DGPmap[newmutation]\n",
    "                    if foldmut != p:\n",
    "                        prodfold[foldmut] *=0\n",
    "                    else: prodfold[foldmut]*=1\n",
    "            for pprime in prodfold.values():\n",
    "                evgdictd[seq]+=(1-pprime)\n",
    "    return evgdictd"
   ]
  },
  {
   "cell_type": "code",
   "execution_count": null,
   "metadata": {},
   "outputs": [],
   "source": [
    "#phenotypic evolvability\n",
    "def evolvabilitypD(DGPmap):\n",
    "    evolp = defaultdict(float)\n",
    "    prodfold = defaultdict(lambda:1) \n",
    "    for seq, phenotype in DGPmap.items():\n",
    "        for newmutation in mutationalneighbours(seq):                    \n",
    "            phenotypeprime = DGPmap[newmutation]\n",
    "            if phenotypeprime!= phenotype:\n",
    "                prodfold[(phenotype, phenotypeprime)] *=0\n",
    "\n",
    "    for (phenotype, phenotypeprime), val in prodfold.items():\n",
    "        evolp[phenotype] += (1-val)\n",
    "\n",
    "    return evolp"
   ]
  },
  {
   "attachments": {},
   "cell_type": "markdown",
   "metadata": {},
   "source": [
    "# Non-Deterministic Quantities (neutral sets, robustness, evolvability)"
   ]
  },
  {
   "attachments": {},
   "cell_type": "markdown",
   "metadata": {},
   "source": [
    "We have a dictionary that we will call NDGPmap representing the non-deterministic GP map of RNA12"
   ]
  },
  {
   "cell_type": "code",
   "execution_count": null,
   "metadata": {},
   "outputs": [],
   "source": [
    "def normalize(probs):\n",
    "    prob_factor = 1 / sum(probs)\n",
    "    return [prob_factor * p for p in probs]\n",
    "\n",
    "def mutationalneighbours(seq):\n",
    "    mutations = {'A': ['C','U','G'],'C': ['A','U','G'],'G': ['A','U','C'], 'U':['A','G','C']}\n",
    "    return [seq[:j] + m + seq[j+1:] for j in range(0,len(seq)) for m in mutations[str(seq[j])]]\n",
    "\n",
    "#For ND quant: normalise probabilities and return resulting dict of the boltzmann folds ens and probs.\n",
    "def extractnormalisedprobs(pboltzlist,L):\n",
    "    probsnorm = []\n",
    "    for p in pboltzlist:\n",
    "        probsnorm.append(float(p[L+2:]))\n",
    "    prob = normalize(probsnorm)\n",
    "    return {pboltzlist[pi][0:L]: prob[pi] for pi in range(0,len(pboltzlist))}"
   ]
  },
  {
   "attachments": {},
   "cell_type": "markdown",
   "metadata": {},
   "source": [
    "## 1. Neutral sets"
   ]
  },
  {
   "cell_type": "code",
   "execution_count": null,
   "metadata": {},
   "outputs": [],
   "source": [
    "def neutralsetsND(NDGPmap,K,L):\n",
    "    \n",
    "    folddict = defaultdict(list)\n",
    "    folds = []\n",
    "    NDsetsize = defaultdict(float)\n",
    "    \n",
    "    for seq in NDGPmap.keys():\n",
    "        phvsprobseq = extractnormalisedprobs(NDGPmap[seq],L)\n",
    "        for phenotype,probg in phvsprobseq.items():\n",
    "            folds.append(phenotype) # total list of folds in dict\n",
    "            NDsetsize[phenotype] += probg #dictionary of neutral set sizes\n",
    "            folddict[phenotype].append([seq,probg]) # folds dict that gives each seq and prob where it appears\n",
    "            \n",
    "    return NDsetsize,folddict,folds"
   ]
  },
  {
   "attachments": {},
   "cell_type": "markdown",
   "metadata": {},
   "source": [
    "## 2. Robustness"
   ]
  },
  {
   "cell_type": "code",
   "execution_count": null,
   "metadata": {},
   "outputs": [],
   "source": [
    "#genotypic robustness, for each genotype\n",
    "def robustnessgND(NDGPmap,seq,K,L):    \n",
    "    rhogndict = defaultdict(float)\n",
    "    phvsprobseq = extractnormalisedprobs(NDGPmap[seq],L)\n",
    "    neighbourvsphvsprob = {newmutation: extractnormalisedprobs(NDGPmap[newmutation],L) for newmutation in mutationalneighbours(seq)}\n",
    "    for phenotype, probg in phvsprobseq.items():\n",
    "        for newmutation, phvsprobmut in neighbourvsphvsprob.items():\n",
    "                try:\n",
    "                    probpgmut = phvsprobmut[phenotype] \n",
    "                    rhogndict[seq] += probpgmut*probg/((K-1)*L) \n",
    "                except KeyError:\n",
    "                    continue     \n",
    "    del neighbourvsphvsprob\n",
    "    return rhogndict"
   ]
  },
  {
   "cell_type": "code",
   "execution_count": null,
   "metadata": {},
   "outputs": [],
   "source": [
    "#phenotypic robustness\n",
    "def robustnesspND(folddict,NDGPmap):\n",
    "    rhopndict = defaultdict(float)\n",
    "    for f,seqprobs in folddict.items():\n",
    "        probgtot = 0\n",
    "        for seq_p in seqprobs:\n",
    "            seq=seq_p[0]\n",
    "            probg =float(seq_p[1])\n",
    "            probgtot += float(seq_p[1])\n",
    "            neighbourvsphvsprob = {newmutation: extractnormalisedprobs(NDGPmap[newmutation],L) for newmutation in mutationalneighbours(seq)}\n",
    "            for newmutation, phvsprobmut in neighbourvsphvsprob.items():\n",
    "                for phenomut,probpgmut in phvsprobmut.items():\n",
    "                    if f == phenomut:\n",
    "                        rhopndict[f] += probpgmut*probg\n",
    "            del neighbourvsphvsprob\n",
    "\n",
    "        rhopndict[f]/=probgtot\n",
    "    return rhopndict"
   ]
  },
  {
   "attachments": {},
   "cell_type": "markdown",
   "metadata": {},
   "source": [
    "## 3. Evolvability"
   ]
  },
  {
   "cell_type": "code",
   "execution_count": null,
   "metadata": {},
   "outputs": [],
   "source": [
    "#genotypic evolvability, for each genotype\n",
    "def evolvabilitygND(gpmap,seq,K,L):\n",
    "    evgndict = defaultdict(float)\n",
    "    phvsprobseq = extractnormalisedprobs(gpmap[seq],L)\n",
    "    neighbourvsphvsprob = {newmutation: extractnormalisedprobs(gpmap[newmutation],L) for newmutation in mutationalneighbours(seq)}\n",
    "    for phenotype, probg in phvsprobseq.items():\n",
    "        probfold = defaultdict(lambda:1)\n",
    "        evgndictp = 0\n",
    "        for newmutation, phvsprobmut in neighbourvsphvsprob.items():\n",
    "            for phenomut,probgmut in phvsprobmut.items():\n",
    "                if phenotype != phenomut:\n",
    "                    probfold[newmutation] *=(1-probgmut)\n",
    "                else: continue\n",
    "        for prob in probfold.values():\n",
    "            evgndictp+=(1-prob)\n",
    "        evgndict[seq]+=evgndictp*probg\n",
    "            \n",
    "    del neighbourvsphvsprob\n",
    "    return evgndict"
   ]
  },
  {
   "cell_type": "code",
   "execution_count": null,
   "metadata": {},
   "outputs": [],
   "source": [
    "#phenotypic evolvability\n",
    "def evolvabilitypND(NDGPmap): \n",
    "\n",
    "    evolp = defaultdict(float)\n",
    "    probgprime = defaultdict(lambda:1) \n",
    "    for seq, problist in NDGPmap.items(): \n",
    "        phvsprobseq = extractnormalisedprobs(problist,L) \n",
    "        neighbourvsphvsprob = {newmutation: extractnormalisedprobs(NDGPmap[newmutation],L) for newmutation in mutationalneighbours(seq)}\n",
    "        for phenotype, probg in phvsprobseq.items():\n",
    "            for newmutation, phvsprobmut in neighbourvsphvsprob.items():\n",
    "               for phenotypeprime, probggprime in phvsprobmut.items():\n",
    "                    if phenotypeprime != phenotype:\n",
    "                        probgprime[(phenotype, phenotypeprime)] *=(1-float(probggprime*probg)) \n",
    "        del neighbourvsphvsprob\n",
    "    for (phenotype, phenotypeprime), prob in probgprime.items():\n",
    "        evolp[phenotype] += (1-prob)\n",
    "           \n",
    "    return evolp"
   ]
  },
  {
   "attachments": {},
   "cell_type": "markdown",
   "metadata": {},
   "source": [
    "## Plastogenetic Congruence"
   ]
  },
  {
   "cell_type": "code",
   "execution_count": null,
   "metadata": {},
   "outputs": [],
   "source": [
    "#create dictionary of mfe probabilities for each genotype\n",
    "def plastocong(dictRNA12,L):\n",
    "    pmfedict = defaultdict(float)\n",
    "    for seq,probs in dictRNA12.items():\n",
    "        pboltz = extractnormalisedprobs(probs,L)\n",
    "        pboltzlist = list(pboltz.values())\n",
    "        mfep = max(pboltzlist)\n",
    "        #mfepi = pboltzlist.index(mfep)\n",
    "        pmfedict[seq] = mfep \n",
    "    return pmfedict"
   ]
  }
 ],
 "metadata": {
  "kernelspec": {
   "display_name": "Python 3.9.7 ('base')",
   "language": "python",
   "name": "python3"
  },
  "language_info": {
   "codemirror_mode": {
    "name": "ipython",
    "version": 3
   },
   "file_extension": ".py",
   "mimetype": "text/x-python",
   "name": "python",
   "nbconvert_exporter": "python",
   "pygments_lexer": "ipython3",
   "version": "3.9.7"
  },
  "orig_nbformat": 4,
  "vscode": {
   "interpreter": {
    "hash": "e93b3f0aa684c9121383f485385717766a576f385bb79b35e3d64e34db110fab"
   }
  }
 },
 "nbformat": 4,
 "nbformat_minor": 2
}
